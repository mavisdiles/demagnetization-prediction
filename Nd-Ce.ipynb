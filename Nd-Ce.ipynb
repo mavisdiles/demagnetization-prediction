{
 "cells": [
  {
   "cell_type": "code",
   "execution_count": 2,
   "id": "dee674af",
   "metadata": {},
   "outputs": [
    {
     "name": "stdout",
     "output_type": "stream",
     "text": [
      "      X1   X2     X3        Y\n",
      "0   2.03  140    0.5  0.87850\n",
      "1   2.03  140    1.5  0.87000\n",
      "2   2.03  140   24.0  0.85400\n",
      "3   2.03  140   72.0  0.83400\n",
      "4   2.03  140  144.0  0.83090\n",
      "..   ...  ...    ...      ...\n",
      "75  6.69  200    0.5  0.70813\n",
      "76  6.69  200    1.5  0.67731\n",
      "77  6.69  200   24.0  0.67510\n",
      "78  6.69  200   72.0  0.67510\n",
      "79  6.69  200  144.0  0.61622\n",
      "\n",
      "[80 rows x 4 columns]\n",
      "원 데이터 :  (80, 1)\n",
      "2차항 변환 데이터 :  (80, 3)\n",
      "기울기 a :  [[ 0.          0.14575495 -0.00182653]]\n",
      "y절편 :  [-1.7705508]\n",
      "결정계수 :  0.6988993555777747\n"
     ]
    },
    {
     "data": {
      "image/png": "[encoded data removed]",
      "text/plain": [
       "<Figure size 432x288 with 1 Axes>"
      ]
     },
     "metadata": {
      "needs_background": "light"
     },
     "output_type": "display_data"
    }
   ],
   "source": [
    "from sklearn.linear_model import LinearRegression\n",
    "#2차 함수를 만들기 위한 import \n",
    "from sklearn.preprocessing import PolynomialFeatures\n",
    "import matplotlib.pyplot as plot\n",
    "import numpy as np\n",
    "import sklearn\n",
    "import pandas as pd\n",
    "import openpyxl\n",
    "#plot.rcParams[\"font.family\"] = 'Malgun gothic'\n",
    "\n",
    "data = pd.read_excel(\"Nd-Ce.xlsx\", header=1)\n",
    "print(data)\n",
    "newData = data[['X1', 'X2', 'X3', 'Y']]\n",
    "\n",
    "#단순 회귀 모델 생성\n",
    "model = LinearRegression()\n",
    "\n",
    "#속성(변수)선택\n",
    "temperature = newData['X2']\n",
    "time = np.log(newData['X3'])\n",
    "newData['LMP'] = (temperature +273)*(time +120)/1000\n",
    "x= newData[['LMP']]\n",
    "\n",
    "y = newData[['Y']]\n",
    "#변환\n",
    "poly = PolynomialFeatures(degree = 2) # 2차함수 적용\n",
    "x_poly = poly.fit_transform(x) # 데이터를 2차식으로 변형\n",
    "\n",
    "model.fit(x_poly, y)\n",
    "\n",
    "#예측 모델 생성\n",
    "y_p = model.predict(x_poly)\n",
    "\n",
    "#출력\n",
    "print('원 데이터 : ', x.shape)\n",
    "print('2차항 변환 데이터 : ', x_poly.shape)\n",
    "#print(x_poly)\n",
    "#기울기와 y절편 출력\n",
    "print('기울기 a : ', model.coef_)\n",
    "print('y절편 : ', model.intercept_)\n",
    "\n",
    "#결정계수\n",
    "relation_square = model.score(x_poly, y)\n",
    "print('결정계수 : ', relation_square)\n",
    "\n",
    "#그래프로 나타내기 \n",
    "plot.scatter(x, y, marker = '+')\n",
    "plot.scatter(x, y_p, marker = 'o')\n",
    "plot.show()"
   ]
  }
 ],
 "metadata": {
  "kernelspec": {
   "display_name": "Python 3 (ipykernel)",
   "language": "python",
   "name": "python3"
  },
  "language_info": {
   "codemirror_mode": {
    "name": "ipython",
    "version": 3
   },
   "file_extension": ".py",
   "mimetype": "text/x-python",
   "name": "python",
   "nbconvert_exporter": "python",
   "pygments_lexer": "ipython3",
   "version": "3.9.12"
  }
 },
 "nbformat": 4,
 "nbformat_minor": 5
}
