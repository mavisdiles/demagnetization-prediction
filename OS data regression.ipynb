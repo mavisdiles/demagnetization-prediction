{
 "cells": [
  {
   "cell_type": "code",
   "execution_count": 27,
   "id": "fb543ed2",
   "metadata": {
    "scrolled": false
   },
   "outputs": [
    {
     "name": "stdout",
     "output_type": "stream",
     "text": [
      "      Time_110     Y_110\n",
      "0       1.0238  0.900294\n",
      "178     1.0238  0.900010\n",
      "89      1.0238  0.899968\n",
      "1       1.0633  0.899856\n",
      "179     1.0633  0.900250\n",
      "..         ...       ...\n",
      "87   9381.1000  0.855113\n",
      "176  9381.1000  0.856077\n",
      "177  9828.6000  0.855013\n",
      "88   9828.6000  0.854870\n",
      "266  9828.6000  0.856169\n",
      "\n",
      "[267 rows x 2 columns]\n"
     ]
    }
   ],
   "source": [
    "import pandas as pd\n",
    "import numpy as np\n",
    "import seaborn\n",
    "import matplotlib.pyplot as plt\n",
    "import math\n",
    "import random\n",
    "\n",
    "plt.rc('font', family='Malgun Gothic')\n",
    "random.seed(2022)\n",
    "\n",
    "# 1단계)   ERROR 열에서 평균 / 표준편차를 구한다.\n",
    "error_df = pd.read_excel(\"data/실제실험데이터_Error.xlsx\", header=1) \n",
    "\n",
    "gaussian_mean = {}\n",
    "gaussian_std = {}\n",
    "\n",
    "for i in [80,90,100,110,120]: \n",
    "    gaussian_mean[i] = error_df['ERROR_'+ str(i)].mean() #평균\n",
    "    gaussian_std[i] = error_df['ERROR_'+ str(i)].std() #표준편차\n",
    "\n",
    "# 2단계)   'graph2_논문자체 회귀데이터'에 추가하여 데이터를 생성한다\n",
    "regression_data = pd.read_excel(\"data/논문자체 회귀데이터.xlsx\", header=1) \n",
    "\n",
    "data_80 =  regression_data[['Time_80','Y_80']][:64]\n",
    "data_90 =  regression_data[['Time_90','Y_90']][:57]\n",
    "data_100 =  regression_data[['Time_100','Y_100']][:75]\n",
    "data_110 =  regression_data[['Time_110','Y_110']][:89]\n",
    "data_120 =  regression_data[['Time_120','Y_120']][:59]\n",
    "\n",
    "data = data_110\n",
    "X = 'Time_110'\n",
    "Y = 'Y_110'\n",
    "\n",
    "def up_sampling(data):\n",
    "    df = data\n",
    "    n=3 #증대 배율\n",
    "    length = len(data)\n",
    "    for i in range(n-1):\n",
    "        l = list(range(length))\n",
    "        \n",
    "        df = df.append(df.loc[l], ignore_index = True)\n",
    "        \n",
    "        for j in range((i+1)*length,(i+2)*length):\n",
    "            error = random.gauss(gaussian_mean[int(X.strip(\"Time_\"))], gaussian_std[int(X.strip(\"Time_\"))]) #가우시안 분포를 이용한 오차 랜덤 샘플링\n",
    "            df[Y][j] = df[Y][j] + error\n",
    "    \n",
    "    df = df.sort_values(by=X)\n",
    "    return df\n",
    "    \"\"\"\n",
    "    plt.scatter(df.index, df['Y_80'])\n",
    "    plt.scatter(df.index, df['fake'])\n",
    "    plt.xlabel(\"index\")\n",
    "    plt.ylabel(\"감자율\")\n",
    "    plt.title(\"MULTIPLE LINEAR REGRESSION\")\n",
    "    plt.show()\n",
    "    \"\"\"\n",
    "    \n",
    "up_sampled_data = up_sampling(data)\n",
    "#up_sampled_data = data\n",
    "print(up_sampled_data)"
   ]
  },
  {
   "cell_type": "code",
   "execution_count": 28,
   "id": "3800456f",
   "metadata": {},
   "outputs": [
    {
     "name": "stdout",
     "output_type": "stream",
     "text": [
      "54\n",
      "54\n"
     ]
    },
    {
     "data": {
      "image/png": "[encoded data removed]",
      "text/plain": [
       "<Figure size 432x288 with 1 Axes>"
      ]
     },
     "metadata": {
      "needs_background": "light"
     },
     "output_type": "display_data"
    },
    {
     "name": "stdout",
     "output_type": "stream",
     "text": [
      "train cv10 R2:[0.35174186 0.65618581 0.665467   0.29436584 0.4861143  0.64494123\n",
      " 0.59269504 0.79986445 0.93798392 0.81062821]\n",
      "train cv10 평균점수 : 0.6239987657641743\n",
      "test set R2:  0.9269797848463495\n",
      "기울기,절편:  [[-0.00488042]] [0.90053247]\n"
     ]
    }
   ],
   "source": [
    "# 3단계)   생성한 데이터로 로그회귀 진행\n",
    "from sklearn.model_selection import train_test_split\n",
    "from sklearn.linear_model import LinearRegression\n",
    "from sklearn.model_selection import cross_val_score\n",
    "\n",
    "x = up_sampled_data[[X]]\n",
    "y = up_sampled_data[[Y]]\n",
    "\n",
    "# 데이터셋 분리\n",
    "x_train, x_test, y_train, y_test = train_test_split(x, y, train_size=0.8, test_size=0.2, shuffle=False) \n",
    "\n",
    "#모델 생성\n",
    "model = LinearRegression()\n",
    "\n",
    "x_train_log = np.log(x_train) # x값 ln(x)으로 전환\n",
    "x_test_log = np.log(x_test)\n",
    "\n",
    "model.fit(x_train_log, y_train) # model fitting\n",
    "\n",
    "# K-fold model validation\n",
    "cv_num =10\n",
    "arr_score = cross_val_score(model,x_train_log,y_train,scoring='r2',cv=cv_num)\n",
    "\n",
    "\n",
    "#예측 비교\n",
    "y_predict = model.predict(x_test_log)\n",
    "print(len(y_predict))\n",
    "print(len(y_test))\n",
    "plt.scatter(x_test, y_predict)#예측 감자율\n",
    "plt.scatter(x_test, y_test) #실제 감자율\n",
    "plt.xlabel(\"time\")\n",
    "plt.ylabel(\"예측 감자율\")\n",
    "plt.title(\"MULTIPLE LINEAR REGRESSION\")\n",
    "plt.show()\n",
    "\n",
    "print(f\"train cv{cv_num} R2:{arr_score}\")\n",
    "print(f'train cv{cv_num} 평균점수 : {arr_score.mean()}')\n",
    "print(\"test set R2: \", model.score(x_test_log, y_test))\n",
    "print(\"기울기,절편: \", model.coef_,model.intercept_)"
   ]
  },
  {
   "cell_type": "code",
   "execution_count": 29,
   "id": "8f654fbb",
   "metadata": {},
   "outputs": [
    {
     "name": "stderr",
     "output_type": "stream",
     "text": [
      "dist_matrix: 100%|####################################################################| 60/60 [00:00<00:00, 133.21it/s]\n",
      "synth_matrix: 100%|##################################################################| 60/60 [00:00<00:00, 1394.65it/s]\n",
      "r_index: 100%|#######################################################################| 14/14 [00:00<00:00, 1399.70it/s]"
     ]
    },
    {
     "name": "stdout",
     "output_type": "stream",
     "text": [
      "smogn 변환 전:  (267, 2)\n",
      "smogn 변환 후:  (207, 2)\n"
     ]
    },
    {
     "name": "stderr",
     "output_type": "stream",
     "text": [
      "\n"
     ]
    },
    {
     "data": {
      "text/plain": [
       "<AxesSubplot:xlabel='Time_110', ylabel='Density'>"
      ]
     },
     "execution_count": 29,
     "metadata": {},
     "output_type": "execute_result"
    },
    {
     "name": "stderr",
     "output_type": "stream",
     "text": [
      "C:\\Users\\SIMBA\\anaconda3\\lib\\site-packages\\matplotlib\\backends\\backend_agg.py:238: RuntimeWarning: Glyph 8722 missing from current font.\n",
      "  font.set_text(s, 0.0, flags=flags)\n",
      "C:\\Users\\SIMBA\\anaconda3\\lib\\site-packages\\matplotlib\\backends\\backend_agg.py:201: RuntimeWarning: Glyph 8722 missing from current font.\n",
      "  font.set_text(s, 0, flags=flags)\n"
     ]
    },
    {
     "data": {
      "image/png": "[encoded data removed]",
      "text/plain": [
       "<Figure size 432x288 with 1 Axes>"
      ]
     },
     "metadata": {
      "needs_background": "light"
     },
     "output_type": "display_data"
    }
   ],
   "source": [
    "# 4단계)   생성한 데이터에 SMOGN 적용하여 로그회귀 진행\n",
    "import smogn\n",
    "import seaborn\n",
    "\n",
    "data_smogn = smogn.smoter(\n",
    "    data = up_sampled_data, \n",
    "    y = X\n",
    ")\n",
    "\n",
    "print(\"smogn 변환 전: \",up_sampled_data.shape)\n",
    "print(\"smogn 변환 후: \",data_smogn.shape)\n",
    "\n",
    "## plot y distribution \n",
    "seaborn.kdeplot(up_sampled_data[X], label = \"Original\")\n",
    "seaborn.kdeplot(data_smogn[X], label = \"Modified\")"
   ]
  },
  {
   "cell_type": "code",
   "execution_count": 30,
   "id": "777b2b9a",
   "metadata": {},
   "outputs": [
    {
     "data": {
      "image/png": "[encoded data removed]",
      "text/plain": [
       "<Figure size 432x288 with 1 Axes>"
      ]
     },
     "metadata": {
      "needs_background": "light"
     },
     "output_type": "display_data"
    },
    {
     "name": "stdout",
     "output_type": "stream",
     "text": [
      "train cv10 R2:[ 0.98922833  0.9913354   0.98311167  0.99125806  0.9917977   0.51896509\n",
      "  0.81971435  0.84111417  0.90825725 -0.33835536]\n",
      "train cv10 평균점수 : 0.7696426684083042\n",
      "test set R2:  0.7687261920840476\n",
      "기울기,절편:  [[-0.00484601]] [0.90112153]\n"
     ]
    }
   ],
   "source": [
    "x_smogn = data_smogn[[X]]\n",
    "y_smogn = data_smogn[[Y]]\n",
    "\n",
    "# 데이터셋 분리\n",
    "x_train, _, y_train, _ = train_test_split(x_smogn, y_smogn, train_size=0.8, test_size=0.2, shuffle=False) \n",
    "_, x_test, _, y_test = train_test_split(x, y, train_size=0.8, test_size=0.2, shuffle=False) \n",
    "\n",
    "#모델 생성\n",
    "model = LinearRegression()\n",
    "\n",
    "x_train_log = np.log(x_train) # x값 ln(x)으로 전환\n",
    "x_test_log = np.log(x_test)\n",
    "model.fit(x_train_log, y_train) # model fitting\n",
    "\n",
    "# K-fold model validation\n",
    "cv_num =10\n",
    "arr_score = cross_val_score(model,x_train_log,y_train,scoring='r2',cv=cv_num)\n",
    "\n",
    "\n",
    "#예측 비교\n",
    "y_predict = model.predict(x_test_log)\n",
    "plt.scatter(x_test, y_predict)#예측 감자율\n",
    "plt.scatter(x_test, y_test) #실제 감자율\n",
    "plt.xlabel(\"time\")\n",
    "plt.ylabel(\"예측 감자율\")\n",
    "plt.title(\"MULTIPLE LINEAR REGRESSION\")\n",
    "plt.show()\n",
    "\n",
    "print(f\"train cv{cv_num} R2:{arr_score}\")\n",
    "print(f'train cv{cv_num} 평균점수 : {arr_score.mean()}')\n",
    "print(\"test set R2: \", model.score(x_test_log, y_test))\n",
    "print(\"기울기,절편: \", model.coef_,model.intercept_)"
   ]
  }
 ],
 "metadata": {
  "kernelspec": {
   "display_name": "Python 3",
   "language": "python",
   "name": "python3"
  },
  "language_info": {
   "codemirror_mode": {
    "name": "ipython",
    "version": 3
   },
   "file_extension": ".py",
   "mimetype": "text/x-python",
   "name": "python",
   "nbconvert_exporter": "python",
   "pygments_lexer": "ipython3",
   "version": "3.8.8"
  }
 },
 "nbformat": 4,
 "nbformat_minor": 5
}
