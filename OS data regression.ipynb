{
 "cells": [
  {
   "cell_type": "code",
   "execution_count": 65,
   "id": "fb543ed2",
   "metadata": {
    "scrolled": false
   },
   "outputs": [
    {
     "name": "stdout",
     "output_type": "stream",
     "text": [
      "        Time_80      Y_80\n",
      "0        1.0062  0.998023\n",
      "384      1.0062  0.995477\n",
      "320      1.0062  0.996914\n",
      "256      1.0062  1.002106\n",
      "192      1.0062  0.995219\n",
      "..          ...       ...\n",
      "191  10032.0000  0.997897\n",
      "127  10032.0000  0.997886\n",
      "63   10032.0000  0.996222\n",
      "447  10032.0000  0.999609\n",
      "511  10032.0000  0.996657\n",
      "\n",
      "[512 rows x 2 columns]\n"
     ]
    }
   ],
   "source": [
    "import pandas as pd\n",
    "import numpy as np\n",
    "import seaborn\n",
    "import matplotlib.pyplot as plt\n",
    "import math\n",
    "import random\n",
    "\n",
    "plt.rc('font', family='Malgun Gothic')\n",
    "\n",
    "# 1단계)   ERROR 열에서 평균 / 표준편차를 구한다.\n",
    "error_df = pd.read_excel(\"data/실제실험데이터_Error.xlsx\", header=1) \n",
    "\n",
    "gaussian_mean = {}\n",
    "gaussian_std = {}\n",
    "\n",
    "for i in [80,90,100,110,120]: \n",
    "    gaussian_mean[i] = error_df['ERROR_'+ str(i)].mean() #평균\n",
    "    gaussian_std[i] = error_df['ERROR_'+ str(i)].std() #표준편차\n",
    "\n",
    "# 2단계)   'graph2_논문자체 회귀데이터'에 추가하여 데이터를 생성한다\n",
    "regression_data = pd.read_excel(\"data/논문자체 회귀데이터.xlsx\", header=1) \n",
    "\n",
    "data_80 =  regression_data[['Time_80','Y_80']][:64]\n",
    "data_90 =  regression_data[['Time_90','Y_90']][:57]\n",
    "data_100 =  regression_data[['Time_100','Y_100']][:75]\n",
    "data_110 =  regression_data[['Time_110','Y_110']][:89]\n",
    "data_120 =  regression_data[['Time_120','Y_120']][:59]\n",
    "\n",
    "data = data_80\n",
    "X = 'Time_80'\n",
    "Y = 'Y_80'\n",
    "\n",
    "def up_sampling(data):\n",
    "    df = data\n",
    "    n=8 #증대 배율\n",
    "    length = len(data)\n",
    "    for i in range(n-1):\n",
    "        l = list(range(length))\n",
    "        \n",
    "        df = df.append(df.loc[l], ignore_index = True)\n",
    "        \n",
    "        for j in range((i+1)*length,(i+2)*length):\n",
    "            error = random.gauss(gaussian_mean[80], gaussian_std[80]) #가우시안 분포를 이용한 오차 랜덤 샘플링\n",
    "            df[Y][j] = df[Y][j] + error\n",
    "    \n",
    "    df = df.sort_values(by=X)\n",
    "    return df\n",
    "    \"\"\"\n",
    "    plt.scatter(df.index, df['Y_80'])\n",
    "    plt.scatter(df.index, df['fake'])\n",
    "    plt.xlabel(\"index\")\n",
    "    plt.ylabel(\"감자율\")\n",
    "    plt.title(\"MULTIPLE LINEAR REGRESSION\")\n",
    "    plt.show()\n",
    "    \"\"\"\n",
    "    \n",
    "up_sampled_data = up_sampling(data)\n",
    "#up_sampled_data = data\n",
    "print(up_sampled_data)"
   ]
  },
  {
   "cell_type": "code",
   "execution_count": 66,
   "id": "ea9a45f7",
   "metadata": {},
   "outputs": [
    {
     "data": {
      "image/png": "[encoded data removed]",
      "text/plain": [
       "<Figure size 432x288 with 1 Axes>"
      ]
     },
     "metadata": {
      "needs_background": "light"
     },
     "output_type": "display_data"
    },
    {
     "name": "stdout",
     "output_type": "stream",
     "text": [
      "train cv5 R2:[-0.00230016 -0.05870629 -0.07297111  0.00379313 -0.03608811]\n",
      "train cv5 평균점수 : -0.03325450788562585\n",
      "test set R2:  -0.0199013947991431\n",
      "기울기,절편:  [[-0.00014233]] [0.99799948]\n"
     ]
    }
   ],
   "source": [
    "# 3단계)   생성한 데이터로 로그회귀 진행\n",
    "from sklearn.model_selection import train_test_split\n",
    "from sklearn.linear_model import LinearRegression\n",
    "from sklearn.model_selection import cross_val_score\n",
    "\n",
    "x = up_sampled_data[[X]]\n",
    "y = up_sampled_data[[Y]]\n",
    "\n",
    "# 데이터셋 분리\n",
    "x_train, x_test, y_train, y_test = train_test_split(x, y, train_size=0.8, test_size=0.2, shuffle=False) #144 예측\n",
    "\n",
    "#모델 생성\n",
    "model = LinearRegression()\n",
    "\n",
    "x_train_log = np.log(x_train) # x값 ln(x)으로 전환\n",
    "x_test_log = np.log(x_test)\n",
    "model.fit(x_train_log, y_train) # model fitting\n",
    "\n",
    "# K-fold model validation\n",
    "cv_num =5\n",
    "arr_score = cross_val_score(model,x_train_log,y_train,scoring='r2',cv=cv_num)\n",
    "\n",
    "\n",
    "#예측 비교\n",
    "y_predict = model.predict(x_test_log)\n",
    "plt.scatter(x_test, y_predict)#예측 감자율\n",
    "plt.scatter(x_test, y_test) #실제 감자율\n",
    "plt.xlabel(\"time\")\n",
    "plt.ylabel(\"예측 감자율\")\n",
    "plt.title(\"MULTIPLE LINEAR REGRESSION\")\n",
    "plt.show()\n",
    "\n",
    "print(f\"train cv{cv_num} R2:{arr_score}\")\n",
    "print(f'train cv{cv_num} 평균점수 : {arr_score.mean()}')\n",
    "print(\"test set R2: \", model.score(x_test_log, y_test))\n",
    "print(\"기울기,절편: \", model.coef_,model.intercept_)"
   ]
  },
  {
   "cell_type": "code",
   "execution_count": 67,
   "id": "67d77e5e",
   "metadata": {},
   "outputs": [
    {
     "name": "stderr",
     "output_type": "stream",
     "text": [
      "dist_matrix:  22%|##############8                                                     | 14/64 [00:00<00:00, 130.81it/s]"
     ]
    },
    {
     "name": "stdout",
     "output_type": "stream",
     "text": [
      "        Time_80      Y_80\n",
      "0        1.0062  0.998023\n",
      "384      1.0062  0.995477\n",
      "320      1.0062  0.996914\n",
      "256      1.0062  1.002106\n",
      "192      1.0062  0.995219\n",
      "..          ...       ...\n",
      "191  10032.0000  0.997897\n",
      "127  10032.0000  0.997886\n",
      "63   10032.0000  0.996222\n",
      "447  10032.0000  0.999609\n",
      "511  10032.0000  0.996657\n",
      "\n",
      "[512 rows x 2 columns]\n"
     ]
    },
    {
     "name": "stderr",
     "output_type": "stream",
     "text": [
      "dist_matrix: 100%|####################################################################| 64/64 [00:00<00:00, 126.69it/s]\n",
      "synth_matrix: 100%|##################################################################| 64/64 [00:00<00:00, 1453.42it/s]\n",
      "r_index: 100%|#######################################################################| 43/43 [00:00<00:00, 1432.09it/s]\n"
     ]
    },
    {
     "ename": "ValueError",
     "evalue": "oops! synthetic data contains missing values",
     "output_type": "error",
     "traceback": [
      "\u001b[1;31m---------------------------------------------------------------------------\u001b[0m",
      "\u001b[1;31mValueError\u001b[0m                                Traceback (most recent call last)",
      "\u001b[1;32m<ipython-input-67-75569cc5a448>\u001b[0m in \u001b[0;36m<module>\u001b[1;34m\u001b[0m\n\u001b[0;32m      2\u001b[0m \u001b[1;32mimport\u001b[0m \u001b[0msmogn\u001b[0m\u001b[1;33m\u001b[0m\u001b[1;33m\u001b[0m\u001b[0m\n\u001b[0;32m      3\u001b[0m \u001b[0mprint\u001b[0m\u001b[1;33m(\u001b[0m\u001b[0mup_sampled_data\u001b[0m\u001b[1;33m)\u001b[0m\u001b[1;33m\u001b[0m\u001b[1;33m\u001b[0m\u001b[0m\n\u001b[1;32m----> 4\u001b[1;33m data_smogn = smogn.smoter(\n\u001b[0m\u001b[0;32m      5\u001b[0m \u001b[1;33m\u001b[0m\u001b[0m\n\u001b[0;32m      6\u001b[0m     \u001b[0mdata\u001b[0m \u001b[1;33m=\u001b[0m \u001b[0mup_sampled_data\u001b[0m\u001b[1;33m,\u001b[0m\u001b[1;33m\u001b[0m\u001b[1;33m\u001b[0m\u001b[0m\n",
      "\u001b[1;32m~\\anaconda3\\lib\\site-packages\\smogn\\smoter.py\u001b[0m in \u001b[0;36msmoter\u001b[1;34m(data, y, k, pert, samp_method, under_samp, drop_na_col, drop_na_row, replace, rel_thres, rel_method, rel_xtrm_type, rel_coef, rel_ctrl_pts_rg)\u001b[0m\n\u001b[0;32m    238\u001b[0m             \u001b[1;31m## considered 'minority'\u001b[0m\u001b[1;33m\u001b[0m\u001b[1;33m\u001b[0m\u001b[1;33m\u001b[0m\u001b[0m\n\u001b[0;32m    239\u001b[0m             \u001b[1;31m## (see 'over_sampling()' function for details)\u001b[0m\u001b[1;33m\u001b[0m\u001b[1;33m\u001b[0m\u001b[1;33m\u001b[0m\u001b[0m\n\u001b[1;32m--> 240\u001b[1;33m             synth_obs = over_sampling(\n\u001b[0m\u001b[0;32m    241\u001b[0m                 \u001b[0mdata\u001b[0m \u001b[1;33m=\u001b[0m \u001b[0mdata\u001b[0m\u001b[1;33m,\u001b[0m\u001b[1;33m\u001b[0m\u001b[1;33m\u001b[0m\u001b[0m\n\u001b[0;32m    242\u001b[0m                 \u001b[0mindex\u001b[0m \u001b[1;33m=\u001b[0m \u001b[0mlist\u001b[0m\u001b[1;33m(\u001b[0m\u001b[0mb_index\u001b[0m\u001b[1;33m[\u001b[0m\u001b[0mi\u001b[0m\u001b[1;33m]\u001b[0m\u001b[1;33m.\u001b[0m\u001b[0mindex\u001b[0m\u001b[1;33m)\u001b[0m\u001b[1;33m,\u001b[0m\u001b[1;33m\u001b[0m\u001b[1;33m\u001b[0m\u001b[0m\n",
      "\u001b[1;32m~\\anaconda3\\lib\\site-packages\\smogn\\over_sampling.py\u001b[0m in \u001b[0;36mover_sampling\u001b[1;34m(data, index, perc, pert, k)\u001b[0m\n\u001b[0;32m    429\u001b[0m     \u001b[1;31m## synthetic data quality check\u001b[0m\u001b[1;33m\u001b[0m\u001b[1;33m\u001b[0m\u001b[1;33m\u001b[0m\u001b[0m\n\u001b[0;32m    430\u001b[0m     \u001b[1;32mif\u001b[0m \u001b[0msum\u001b[0m\u001b[1;33m(\u001b[0m\u001b[0mdata_new\u001b[0m\u001b[1;33m.\u001b[0m\u001b[0misnull\u001b[0m\u001b[1;33m(\u001b[0m\u001b[1;33m)\u001b[0m\u001b[1;33m.\u001b[0m\u001b[0msum\u001b[0m\u001b[1;33m(\u001b[0m\u001b[1;33m)\u001b[0m\u001b[1;33m)\u001b[0m \u001b[1;33m>\u001b[0m \u001b[1;36m0\u001b[0m\u001b[1;33m:\u001b[0m\u001b[1;33m\u001b[0m\u001b[1;33m\u001b[0m\u001b[0m\n\u001b[1;32m--> 431\u001b[1;33m         \u001b[1;32mraise\u001b[0m \u001b[0mValueError\u001b[0m\u001b[1;33m(\u001b[0m\u001b[1;34m\"oops! synthetic data contains missing values\"\u001b[0m\u001b[1;33m)\u001b[0m\u001b[1;33m\u001b[0m\u001b[1;33m\u001b[0m\u001b[0m\n\u001b[0m\u001b[0;32m    432\u001b[0m \u001b[1;33m\u001b[0m\u001b[0m\n\u001b[0;32m    433\u001b[0m     \u001b[1;31m## replace label encoded values with original values\u001b[0m\u001b[1;33m\u001b[0m\u001b[1;33m\u001b[0m\u001b[1;33m\u001b[0m\u001b[0m\n",
      "\u001b[1;31mValueError\u001b[0m: oops! synthetic data contains missing values"
     ]
    }
   ],
   "source": [
    "# 4단계)   생성한 데이터에 SMOGN 적용하여 로그회귀 진행\n",
    "import smogn\n",
    "print(up_sampled_data)\n",
    "data_smogn = smogn.smoter(\n",
    "    \n",
    "    data = up_sampled_data, \n",
    "    y = Y\n",
    ")"
   ]
  }
 ],
 "metadata": {
  "kernelspec": {
   "display_name": "Python 3",
   "language": "python",
   "name": "python3"
  },
  "language_info": {
   "codemirror_mode": {
    "name": "ipython",
    "version": 3
   },
   "file_extension": ".py",
   "mimetype": "text/x-python",
   "name": "python",
   "nbconvert_exporter": "python",
   "pygments_lexer": "ipython3",
   "version": "3.8.8"
  }
 },
 "nbformat": 4,
 "nbformat_minor": 5
}
